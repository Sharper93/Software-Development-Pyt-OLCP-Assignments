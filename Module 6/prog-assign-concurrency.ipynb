{
 "cells": [
  {
   "cell_type": "markdown",
   "metadata": {},
   "source": [
    "## Module 6 - Programming Assignment Concurrency\n",
    "\n",
    "By: Samantha Harper\n",
    "\n",
    "Date: 02/17/2025\n",
    "\n",
    "__Table of Contents__\n",
    "\n",
    "- [13.1](#131---write-date-to-file)\n",
    "- [13.2](#132---read-content-on-file-and-print-content)\n",
    "- [13.3](#133---parse-date-from-string)\n",
    "\n"
   ]
  },
  {
   "cell_type": "markdown",
   "metadata": {},
   "source": []
  },
  {
   "cell_type": "markdown",
   "metadata": {},
   "source": [
    "# 13.1 Write Date to file"
   ]
  },
  {
   "cell_type": "code",
   "execution_count": 74,
   "metadata": {},
   "outputs": [],
   "source": [
    "# importing module\n",
    "import datetime\n",
    "\n",
    "# getting current date and time and converting it to string format\n",
    "time_now: datetime = datetime.datetime.now()\n",
    "str_time_now: str = str(time_now)\n",
    "\n",
    "# opening a file in write mode and writing the current date and time to it\n",
    "with open('today.txt', 'w') as file:\n",
    "    file.write(str_time_now)\n",
    "    "
   ]
  },
  {
   "cell_type": "markdown",
   "metadata": {},
   "source": [
    "# 13.2 Read content on file and print content"
   ]
  },
  {
   "cell_type": "code",
   "execution_count": 75,
   "metadata": {},
   "outputs": [
    {
     "name": "stdout",
     "output_type": "stream",
     "text": [
      "2025-02-17 20:34:59.867786\n"
     ]
    }
   ],
   "source": [
    "# setting new variable to call 13.1 variable\n",
    "today_string: str = str_time_now\n",
    "print(today_string)\n"
   ]
  },
  {
   "cell_type": "markdown",
   "metadata": {},
   "source": [
    "# 13.3 Parse Date from string"
   ]
  },
  {
   "cell_type": "code",
   "execution_count": 76,
   "metadata": {},
   "outputs": [
    {
     "name": "stdout",
     "output_type": "stream",
     "text": [
      "Year: 2025 Month: 02 Day: 17\n",
      "Hour: 20 Minute: 34 Second: 59 Millisecond: 867786\n",
      "\n",
      "Date: ('2025', '02', '17', '20')\n",
      "Time: ('34', '59', '867786')\n",
      "\n",
      "Date: 2025-02-17 Time: 20:34:59.867786\n"
     ]
    }
   ],
   "source": [
    "import re\n",
    "\n",
    "# example of data to help parse the date 2025-02-17 19:42:08.521713\n",
    "\n",
    "\n",
    "# set regular expression variable to match the date and time format\n",
    "re_matches = re.match(r'^(\\d{4})\\-(\\d{2})\\-(\\d{2}) (\\d{2})\\:(\\d{2})\\:(\\d{2})\\.?(\\d+?)$', today_string)\n",
    "\n",
    "# extract the groups and list them\n",
    "matches: tuple = re_matches.groups()\n",
    "year = matches[0]\n",
    "month = matches[1]\n",
    "day = matches[2]\n",
    "hour = matches[3]\n",
    "minute = matches[4]\n",
    "second = matches[5]\n",
    "millisecond = matches[6] \n",
    "\n",
    "\n",
    "# print in various formats for fun :) \n",
    "print(f\"Year: {matches[0]} Month: {matches[1]} Day: {matches[2]}\\nHour: {matches[3]} Minute: {matches[4]} Second: {matches[5]} Millisecond: {matches[6]}\\n\")\n",
    "print(f\"Date: {matches[0:4]}\\nTime: {matches[4:]}\\n\")\n",
    "print(f\"Date: {year}-{month}-{day} Time: {hour}:{minute}:{second}.{millisecond}\")\n"
   ]
  }
 ],
 "metadata": {
  "kernelspec": {
   "display_name": "base",
   "language": "python",
   "name": "python3"
  },
  "language_info": {
   "codemirror_mode": {
    "name": "ipython",
    "version": 3
   },
   "file_extension": ".py",
   "mimetype": "text/x-python",
   "name": "python",
   "nbconvert_exporter": "python",
   "pygments_lexer": "ipython3",
   "version": "3.12.7"
  }
 },
 "nbformat": 4,
 "nbformat_minor": 2
}
